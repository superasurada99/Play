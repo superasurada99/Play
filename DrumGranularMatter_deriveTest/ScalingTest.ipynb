{
 "cells": [
  {
   "cell_type": "markdown",
   "metadata": {},
   "source": [
    "load python"
   ]
  },
  {
   "cell_type": "code",
   "execution_count": 2,
   "metadata": {
    "collapsed": true
   },
   "outputs": [],
   "source": [
    "import numpy as np, math, os\n",
    "from IPython.display import Image,display,Math,Latex,display_pretty\n",
    "from importlib import reload\n",
    "import matplotlib.pyplot as plt, matplotlib.image as mpimg"
   ]
  },
  {
   "cell_type": "markdown",
   "metadata": {},
   "source": [
    "Full equations:\n",
    "\n",
    "mass balance equation\n",
    "\\begin{equation}\n",
    "\t\\frac{\\partial u}{\\partial x}+\\frac{\\partial w}{\\partial z}=0 \\,,\n",
    "\\end{equation}\n",
    "\n",
    "momentum balance equations\n",
    "\n",
    "$x-$ direction\n",
    "\\begin{equation}\n",
    "\t\\rho \\left( \\frac{\\partial u}{\\partial t} + u \\frac{\\partial u}{\\partial x} + w \\frac{\\partial u}{\\partial z} \\right) = \\rho g_{\\parallel} + \\frac{2 \\tau_{W}}{W} -\\frac{\\partial \\sigma}{\\partial x} + \\frac{\\partial \\tau_{xz}}{\\partial z} + \\frac{\\partial \\tau_{xx}}{\\partial x} \\,,\n",
    "\\end{equation}\n",
    "\n",
    "$z-$ direction\n",
    "\\begin{equation}\n",
    "\t\\rho \\left( \\frac{\\partial w}{\\partial t} + u \\frac{\\partial w}{\\partial x} + w \\frac{\\partial w}{\\partial z} \\right) = \\rho g_{\\perp} -\\frac{\\partial \\sigma}{\\partial z} + \\frac{\\partial \\tau_{zx}}{\\partial x} + \\frac{\\partial \\tau_{zz}}{\\partial z} \\,,\n",
    "\\end{equation}\n",
    "\n",
    "Apply the scaling analysis method in Gray and Edwards (2014).\"The avalanche is assumed to be of a typical thickness, $H$, which is much smaller than the downslope length scale, $L$. Typical downstream flow speeds are assumed to be the oder of the gravity wave speed, $ U = \\left( gH \\right)^(1/2)$, and mass balance implies that typical normal velocities in the $z$ direction are of magnitude $ \\varepsilon U$, where the aspect ratio $ \\varepsilon = H/L << 1$. The pressure scaling, $\\rho gH$, is based on a hydro static pressure balance in the normal momentum equation.\"  \n",
    "\n",
    "#### Derivation:\n",
    "we know the length scale in $x-$ direction is much larger than the length scale in $z-$ direction.\n",
    "The relationship can written as $ [z] = \\varepsilon [x]$, and substitute the relationship into mass balance equation \n",
    "\n",
    "\\begin{equation}\n",
    "\\frac{[u]}{[x]}\\frac{\\partial \\hat{u}}{\\partial \\hat{x}} + \\frac{[w]}{\\varepsilon [x]}\\frac{\\partial \\hat{w}}{\\partial \\hat{z}}=0 \\,,\n",
    "\\end{equation}\n",
    "\n",
    "From the mass balance equation, we know $ [w] = \\varepsilon [u]$ to balance the scale in the equation. To check the scale for the normal and shear stress, we apply the scale in to deviatoric stress \n",
    "\n",
    "\\begin{equation}\n",
    "    \\tau_{xx} =  (\\mu_{0} + \\chi \\frac{2\\Arrowvert\\mathbb{D}\\Arrowvert D}{\\sqrt{p/\\rho}}) \\frac{p}{\\Arrowvert\\mathbb{D}\\Arrowvert} (\\frac{\\partial u}{\\partial x})\n",
    "\\end{equation}\n",
    "\n",
    "\\begin{equation}\n",
    "    \\tau_{zz} =  (\\mu_{0} + \\chi \\frac{2\\Arrowvert\\mathbb{D}\\Arrowvert D}{\\sqrt{p/\\rho}}) \\frac{p}{\\Arrowvert\\mathbb{D}\\Arrowvert} (\\frac{\\partial w}{\\partial x})\n",
    "\\end{equation}\n",
    "\n",
    "\\begin{equation}\n",
    "    \\tau_{xz} = \\tau_{zx} = (\\mu_{0} + \\chi \\frac{2\\Arrowvert\\mathbb{D}\\Arrowvert D}{\\sqrt{p/\\rho}}) \\frac{p}{\\Arrowvert\\mathbb{D}\\Arrowvert} (\\frac{\\partial u}{\\partial z} + \\frac{\\partial w}{\\partial x})\n",
    "\\end{equation}\n",
    "\n",
    "\n",
    "Since we consider the case in the drum, the time differentiation term is ignored. \n",
    "\n",
    "$z-$ direction momentum equation \n",
    "\n",
    "\\begin{equation}\n",
    "\t\\rho \\left( [u]\\frac{[w]}{[x]} \\hat{u} \\frac{\\partial \\hat{w}}{\\partial \\hat{x}} + [w]\\frac{[w]}{[z]} \\hat{w}\\frac{\\partial \\hat{w}}{\\partial \\hat{z}} \\right) = \\rho g_{\\perp} - \\frac{[\\sigma]}{[z]} \\frac{\\partial \\hat{\\sigma}}{\\partial \\hat{z}} + \\frac{[\\tau_{zx}]}{[x]}\\frac{\\partial \\hat{\\tau_{zx}}}{\\partial \\hat{x}} + \\frac{[\\tau_{zz}]}{[z]}\\frac{\\partial \\hat{\\tau_{zz}}}{\\partial \\hat{z}} \\,,\n",
    "\\end{equation}\n",
    "\n"
   ]
  },
  {
   "cell_type": "markdown",
   "metadata": {
    "slideshow": {
     "slide_type": "skip"
    }
   },
   "source": [
    "From the experimental setup, we know the length scale in $x-$ direction is much larger than the length scale in $z-$ direction.\n",
    "The relationship can written as $ [z] = \\varepsilon [x]$, and substitute the relationship into mass balance equation \n",
    "\n",
    "\\begin{equation}\n",
    "\\frac{[u]}{[x]}\\frac{\\partial \\hat{u}}{\\partial \\hat{x}} + \\frac{[w]}{\\varepsilon [x]}\\frac{\\partial \\hat{w}}{\\partial \\hat{z}}=0 \\,,\n",
    "\\end{equation}\n",
    "\n",
    "From the mass balance equation, we know $ [w] = \\varepsilon [u]$ to balance the scale in the equation. Since we consider the case in the drum, the time differentiation term is ignored. "
   ]
  },
  {
   "cell_type": "code",
   "execution_count": null,
   "metadata": {
    "collapsed": true
   },
   "outputs": [],
   "source": []
  }
 ],
 "metadata": {
  "celltoolbar": "Slideshow",
  "hide_input": true,
  "kernelspec": {
   "display_name": "Python 3",
   "language": "python",
   "name": "python3"
  },
  "language_info": {
   "codemirror_mode": {
    "name": "ipython",
    "version": 3
   },
   "file_extension": ".py",
   "mimetype": "text/x-python",
   "name": "python",
   "nbconvert_exporter": "python",
   "pygments_lexer": "ipython3",
   "version": "3.4.3"
  }
 },
 "nbformat": 4,
 "nbformat_minor": 0
}
